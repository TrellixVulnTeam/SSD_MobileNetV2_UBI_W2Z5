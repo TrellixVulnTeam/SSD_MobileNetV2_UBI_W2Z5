{
 "cells": [
  {
   "cell_type": "markdown",
   "metadata": {},
   "source": [
    "## Split train dataset to test"
   ]
  },
  {
   "cell_type": "code",
   "execution_count": 5,
   "metadata": {},
   "outputs": [],
   "source": [
    "import glob\n",
    "import shutil\n",
    "import random\n",
    "from tqdm.notebook import tqdm\n",
    "\n",
    "class Split_dataset():\n",
    "    def __init__(self):\n",
    "        self.test_percentage = 0.1\n",
    "    \n",
    "    def split(self, dataset):\n",
    "        random.seed(4)\n",
    "        rand_range = range(0, len(dataset))\n",
    "        split_num = int(len(dataset)*self.test_percentage)\n",
    "        rand_list = random.sample(rand_range, split_num)\n",
    "        \n",
    "        for rand in rand_list:\n",
    "            xml = dataset[rand]\n",
    "            jpg = dataset[rand].replace('Annotations', 'JPEGImages').replace('xml', 'jpg')\n",
    "            shutil.move(xml, xml.replace('train', 'test'))\n",
    "            shutil.move(jpg, jpg.replace('train', 'test'))\n",
    "        \n",
    "        return split_num\n",
    "    \n",
    "    def undo(self, dataset):\n",
    "        for file in dataset:\n",
    "            xml = file\n",
    "            jpg = file.replace('Annotations', 'JPEGImages').replace('xml', 'jpg')\n",
    "            shutil.move(xml, xml.replace('test', 'train'))\n",
    "            shutil.move(jpg, jpg.replace('test', 'train'))"
   ]
  },
  {
   "cell_type": "code",
   "execution_count": 3,
   "metadata": {},
   "outputs": [
    {
     "data": {
      "application/vnd.jupyter.widget-view+json": {
       "model_id": "9f59f228634b4e34b96541649de9e910",
       "version_major": 2,
       "version_minor": 0
      },
      "text/plain": [
       "HBox(children=(IntProgress(value=0, max=55), HTML(value='')))"
      ]
     },
     "metadata": {},
     "output_type": "display_data"
    },
    {
     "name": "stdout",
     "output_type": "stream",
     "text": [
      "\n"
     ]
    }
   ],
   "source": [
    "folders = glob.glob('images/train/Annotations/All/*')\n",
    "\n",
    "for folder in tqdm(folders):\n",
    "    dataset = glob.glob('{}/*.xml'.format(folder))\n",
    "    split_dataset = Split_dataset()\n",
    "    split_dataset.split(dataset)"
   ]
  },
  {
   "cell_type": "markdown",
   "metadata": {},
   "source": [
    "## Undo all changes to train dataset"
   ]
  },
  {
   "cell_type": "code",
   "execution_count": 7,
   "metadata": {},
   "outputs": [
    {
     "data": {
      "application/vnd.jupyter.widget-view+json": {
       "model_id": "296d1c9dbae64d2e93a32c2872947dcc",
       "version_major": 2,
       "version_minor": 0
      },
      "text/plain": [
       "HBox(children=(IntProgress(value=0, max=55), HTML(value='')))"
      ]
     },
     "metadata": {},
     "output_type": "display_data"
    },
    {
     "name": "stdout",
     "output_type": "stream",
     "text": [
      "\n"
     ]
    }
   ],
   "source": [
    "folders = glob.glob('images/test/Annotations/All/*')\n",
    "\n",
    "for folder in tqdm(folders):\n",
    "    dataset = glob.glob('{}/*.xml'.format(folder))\n",
    "    split_dataset = Split_dataset()\n",
    "    split_dataset.undo(dataset)"
   ]
  },
  {
   "cell_type": "markdown",
   "metadata": {},
   "source": [
    "## Calculate the number of files"
   ]
  },
  {
   "cell_type": "code",
   "execution_count": 8,
   "metadata": {},
   "outputs": [
    {
     "name": "stdout",
     "output_type": "stream",
     "text": [
      "train(xml): 99914\n",
      "test(xml): 0\n",
      "train(jpg): 99914\n",
      "test(jpg): 0\n"
     ]
    }
   ],
   "source": [
    "train_xml = len(glob.glob('images/train/Annotations/All/*/*.xml'))\n",
    "test_xml = len(glob.glob('images/test/Annotations/All/*/*.xml'))\n",
    "train_jpg = len(glob.glob('images/train/JPEGImages/All/*/*.jpg'))\n",
    "test_jpg = len(glob.glob('images/test/JPEGImages/All/*/*.jpg'))\n",
    "\n",
    "print('train(xml): {}'.format(train_xml))\n",
    "print('test(xml): {}'.format(test_xml))\n",
    "print('train(jpg): {}'.format(train_jpg))\n",
    "print('test(jpg): {}'.format(test_jpg))"
   ]
  },
  {
   "cell_type": "code",
   "execution_count": null,
   "metadata": {},
   "outputs": [],
   "source": []
  }
 ],
 "metadata": {
  "kernelspec": {
   "display_name": "Python 3",
   "language": "python",
   "name": "python3"
  },
  "language_info": {
   "codemirror_mode": {
    "name": "ipython",
    "version": 3
   },
   "file_extension": ".py",
   "mimetype": "text/x-python",
   "name": "python",
   "nbconvert_exporter": "python",
   "pygments_lexer": "ipython3",
   "version": "3.6.7"
  }
 },
 "nbformat": 4,
 "nbformat_minor": 4
}
